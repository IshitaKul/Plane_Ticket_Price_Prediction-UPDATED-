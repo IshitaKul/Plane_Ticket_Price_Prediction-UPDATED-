{
 "cells": [
  {
   "cell_type": "markdown",
   "metadata": {},
   "source": [
    "# Airoplane Ticket Price Prediction ( Random Forest Regressor )"
   ]
  },
  {
   "cell_type": "markdown",
   "metadata": {},
   "source": [
    "## 1) Importing packages"
   ]
  },
  {
   "cell_type": "code",
   "execution_count": 1,
   "metadata": {},
   "outputs": [],
   "source": [
    "import pandas as pd\n",
    "import calendar\n",
    "import re\n",
    "import datetime\n",
    "import calendar\n",
    "import math\n",
    "import matplotlib.pyplot as plt\n",
    "from sklearn.metrics import mean_squared_error as mse\n",
    "from sklearn.preprocessing import StandardScaler\n",
    "from sklearn.model_selection import train_test_split\n",
    "from sklearn.externals import joblib\n",
    "from sklearn.metrics import mean_squared_error\n",
    "from sklearn.metrics import r2_score\n",
    "from sklearn.model_selection import RandomizedSearchCV\n",
    "from sklearn.ensemble import RandomForestRegressor"
   ]
  },
  {
   "cell_type": "markdown",
   "metadata": {},
   "source": [
    "## 2) Reading Dataset"
   ]
  },
  {
   "cell_type": "code",
   "execution_count": 2,
   "metadata": {},
   "outputs": [
    {
     "data": {
      "text/html": [
       "<div>\n",
       "<style scoped>\n",
       "    .dataframe tbody tr th:only-of-type {\n",
       "        vertical-align: middle;\n",
       "    }\n",
       "\n",
       "    .dataframe tbody tr th {\n",
       "        vertical-align: top;\n",
       "    }\n",
       "\n",
       "    .dataframe thead th {\n",
       "        text-align: right;\n",
       "    }\n",
       "</style>\n",
       "<table border=\"1\" class=\"dataframe\">\n",
       "  <thead>\n",
       "    <tr style=\"text-align: right;\">\n",
       "      <th></th>\n",
       "      <th>Airline</th>\n",
       "      <th>Date_of_Journey</th>\n",
       "      <th>Source</th>\n",
       "      <th>Destination</th>\n",
       "      <th>Dep_Time</th>\n",
       "      <th>Arrival_Time</th>\n",
       "      <th>Duration</th>\n",
       "      <th>Total_Stops</th>\n",
       "      <th>Additional_Info</th>\n",
       "      <th>Price</th>\n",
       "    </tr>\n",
       "  </thead>\n",
       "  <tbody>\n",
       "    <tr>\n",
       "      <td>10664</td>\n",
       "      <td>IndiGo</td>\n",
       "      <td>9/04/2019</td>\n",
       "      <td>Banglore</td>\n",
       "      <td>Delhi</td>\n",
       "      <td>18:55</td>\n",
       "      <td>21:50</td>\n",
       "      <td>2h 55m</td>\n",
       "      <td>0</td>\n",
       "      <td>No info</td>\n",
       "      <td>4823</td>\n",
       "    </tr>\n",
       "    <tr>\n",
       "      <td>10665</td>\n",
       "      <td>IndiGo</td>\n",
       "      <td>27/04/2019</td>\n",
       "      <td>Kolkata</td>\n",
       "      <td>Banglore</td>\n",
       "      <td>15:15</td>\n",
       "      <td>17:45</td>\n",
       "      <td>2h 30m</td>\n",
       "      <td>0</td>\n",
       "      <td>No info</td>\n",
       "      <td>4804</td>\n",
       "    </tr>\n",
       "    <tr>\n",
       "      <td>10666</td>\n",
       "      <td>Jet Airways</td>\n",
       "      <td>12/06/2019</td>\n",
       "      <td>Delhi</td>\n",
       "      <td>Cochin</td>\n",
       "      <td>18:15</td>\n",
       "      <td>19:00 13 Jun</td>\n",
       "      <td>24h 45m</td>\n",
       "      <td>1</td>\n",
       "      <td>In-flight meal not included</td>\n",
       "      <td>10262</td>\n",
       "    </tr>\n",
       "    <tr>\n",
       "      <td>10667</td>\n",
       "      <td>Multiple carriers</td>\n",
       "      <td>15/06/2019</td>\n",
       "      <td>Delhi</td>\n",
       "      <td>Cochin</td>\n",
       "      <td>04:55</td>\n",
       "      <td>19:15</td>\n",
       "      <td>14h 20m</td>\n",
       "      <td>1</td>\n",
       "      <td>No info</td>\n",
       "      <td>10000</td>\n",
       "    </tr>\n",
       "    <tr>\n",
       "      <td>10668</td>\n",
       "      <td>Jet Airways</td>\n",
       "      <td>9/05/2019</td>\n",
       "      <td>Delhi</td>\n",
       "      <td>Cochin</td>\n",
       "      <td>11:40</td>\n",
       "      <td>19:00</td>\n",
       "      <td>7h 20m</td>\n",
       "      <td>2</td>\n",
       "      <td>No info</td>\n",
       "      <td>21219</td>\n",
       "    </tr>\n",
       "  </tbody>\n",
       "</table>\n",
       "</div>"
      ],
      "text/plain": [
       "                 Airline Date_of_Journey    Source Destination Dep_Time  \\\n",
       "10664             IndiGo       9/04/2019  Banglore       Delhi    18:55   \n",
       "10665             IndiGo      27/04/2019   Kolkata    Banglore    15:15   \n",
       "10666        Jet Airways      12/06/2019     Delhi      Cochin    18:15   \n",
       "10667  Multiple carriers      15/06/2019     Delhi      Cochin    04:55   \n",
       "10668        Jet Airways       9/05/2019     Delhi      Cochin    11:40   \n",
       "\n",
       "       Arrival_Time Duration  Total_Stops              Additional_Info  Price  \n",
       "10664         21:50   2h 55m            0                      No info   4823  \n",
       "10665         17:45   2h 30m            0                      No info   4804  \n",
       "10666  19:00 13 Jun  24h 45m            1  In-flight meal not included  10262  \n",
       "10667         19:15  14h 20m            1                      No info  10000  \n",
       "10668         19:00   7h 20m            2                      No info  21219  "
      ]
     },
     "execution_count": 2,
     "metadata": {},
     "output_type": "execute_result"
    }
   ],
   "source": [
    "read_data = pd.read_csv('DataSet.csv')\n",
    "read_data.tail()"
   ]
  },
  {
   "cell_type": "markdown",
   "metadata": {},
   "source": [
    "## 3) Cleaning Dataset"
   ]
  },
  {
   "cell_type": "code",
   "execution_count": 3,
   "metadata": {},
   "outputs": [
    {
     "name": "stdout",
     "output_type": "stream",
     "text": [
      "Airline            0\n",
      "Date_of_Journey    0\n",
      "Source             0\n",
      "Destination        0\n",
      "Dep_Time           0\n",
      "Arrival_Time       0\n",
      "Duration           0\n",
      "Total_Stops        0\n",
      "Additional_Info    0\n",
      "Price              0\n",
      "dtype: int64\n"
     ]
    }
   ],
   "source": [
    "print(read_data.isnull().sum())"
   ]
  },
  {
   "cell_type": "code",
   "execution_count": 4,
   "metadata": {},
   "outputs": [],
   "source": [
    "df_data = pd.DataFrame()"
   ]
  },
  {
   "cell_type": "code",
   "execution_count": 5,
   "metadata": {},
   "outputs": [],
   "source": [
    "Airline_dic = {'Air Asia':1, 'Air India':2, 'GoAir':3, 'IndiGo':4, 'Jet Airways':5, 'Jet Airways Business':6, 'Multiple carriers':7, 'Multiple carriers Premium economy':8, 'SpiceJet':9, 'Trujet':10, 'Vistara':11, 'Vistara Premium economy':12, 'Multiple carriers':13}\n",
    "Source_dic = {'Banglore':1, 'Chennai':2, 'Delhi':3, 'Kolkata':4, 'Mumbai':5}\n",
    "Destination_dic = {'Banglore':1, 'Cochin':2, 'Delhi':3, 'Hyderabad':4, 'Kolkata':5, 'New Delhi':6}\n",
    "aditional_info = {'1 Long layover':1,'1 Short layover':2,'2 Long layover':3,'Business class':4, 'Change airports':5, 'In-flight meal not included':6, 'No Info':7, 'No check-in baggage included':8, 'No info':9, 'Red-eye flight':10}"
   ]
  },
  {
   "cell_type": "markdown",
   "metadata": {},
   "source": [
    "### Maping Airoplane Name"
   ]
  },
  {
   "cell_type": "code",
   "execution_count": 6,
   "metadata": {},
   "outputs": [],
   "source": [
    "def clean_Airline(x):\n",
    "    return Airline_dic[x]\n",
    "\n",
    "df_data['Airline'] = read_data['Airline'].apply(clean_Airline)"
   ]
  },
  {
   "cell_type": "markdown",
   "metadata": {},
   "source": [
    "### Maping Month value"
   ]
  },
  {
   "cell_type": "code",
   "execution_count": 7,
   "metadata": {},
   "outputs": [],
   "source": [
    "def map_month(date_value):\n",
    "    date_value = date_value.strip()\n",
    "    date_value = date_value.split('/')\n",
    "    month_value = date_value[1]\n",
    "    return int(month_value)\n",
    "\n",
    "df_data['month_Journey']= read_data['Date_of_Journey'].apply(map_month)"
   ]
  },
  {
   "cell_type": "markdown",
   "metadata": {},
   "source": [
    "### Maping Date value"
   ]
  },
  {
   "cell_type": "code",
   "execution_count": 8,
   "metadata": {},
   "outputs": [],
   "source": [
    "def map_day(date_value):\n",
    "    date_value = date_value.split('/')\n",
    "\n",
    "    dd = date_value[0]\n",
    "    mm = date_value[1]\n",
    "    yy = date_value[2]\n",
    "\n",
    "    day, month, year = map(int, (dd+' '+mm+' '+yy).split(' '))\n",
    "    my_date = datetime.date(year, month, day)\n",
    "    d = {\"Sunday\":6, \"Monday\":0, \"Tuesday\":1, \"Wednesday\":2, \"Thursday\":3, \"Friday\":4, \"Saturday\":5}\n",
    "\n",
    "    return d[calendar.day_name[my_date.weekday()]]\n",
    "\n",
    "df_data['day_Journey']= read_data['Date_of_Journey'].apply(map_day)"
   ]
  },
  {
   "cell_type": "markdown",
   "metadata": {},
   "source": [
    "### Maping Source and Destination Values"
   ]
  },
  {
   "cell_type": "code",
   "execution_count": 9,
   "metadata": {},
   "outputs": [],
   "source": [
    "def map_Source(source):\n",
    "    return Source_dic[source]\n",
    "\n",
    "def map_Destination(destination):\n",
    "    return Destination_dic[destination]\n",
    "\n",
    "df_data['Source'] = read_data['Source'].apply(map_Source)\n",
    "df_data['Destination'] = read_data['Destination'].apply(map_Destination)"
   ]
  },
  {
   "cell_type": "markdown",
   "metadata": {},
   "source": [
    "### Maping Additional Informations "
   ]
  },
  {
   "cell_type": "code",
   "execution_count": 10,
   "metadata": {},
   "outputs": [],
   "source": [
    "def map_aditional_info(info):\n",
    "    return aditional_info[info]\n",
    "\n",
    "df_data['Total_Stops'] = read_data['Total_Stops']\n",
    "df_data['Additional_Info'] = read_data['Additional_Info'].apply(map_aditional_info)\n",
    "df_data['Price'] = read_data['Price']"
   ]
  },
  {
   "cell_type": "code",
   "execution_count": 11,
   "metadata": {},
   "outputs": [
    {
     "data": {
      "text/html": [
       "<div>\n",
       "<style scoped>\n",
       "    .dataframe tbody tr th:only-of-type {\n",
       "        vertical-align: middle;\n",
       "    }\n",
       "\n",
       "    .dataframe tbody tr th {\n",
       "        vertical-align: top;\n",
       "    }\n",
       "\n",
       "    .dataframe thead th {\n",
       "        text-align: right;\n",
       "    }\n",
       "</style>\n",
       "<table border=\"1\" class=\"dataframe\">\n",
       "  <thead>\n",
       "    <tr style=\"text-align: right;\">\n",
       "      <th></th>\n",
       "      <th>Airline</th>\n",
       "      <th>month_Journey</th>\n",
       "      <th>day_Journey</th>\n",
       "      <th>Source</th>\n",
       "      <th>Destination</th>\n",
       "      <th>Total_Stops</th>\n",
       "      <th>Additional_Info</th>\n",
       "      <th>Price</th>\n",
       "    </tr>\n",
       "  </thead>\n",
       "  <tbody>\n",
       "    <tr>\n",
       "      <td>0</td>\n",
       "      <td>4</td>\n",
       "      <td>3</td>\n",
       "      <td>6</td>\n",
       "      <td>1</td>\n",
       "      <td>6</td>\n",
       "      <td>0</td>\n",
       "      <td>9</td>\n",
       "      <td>3897</td>\n",
       "    </tr>\n",
       "    <tr>\n",
       "      <td>1</td>\n",
       "      <td>2</td>\n",
       "      <td>5</td>\n",
       "      <td>2</td>\n",
       "      <td>4</td>\n",
       "      <td>1</td>\n",
       "      <td>2</td>\n",
       "      <td>9</td>\n",
       "      <td>7662</td>\n",
       "    </tr>\n",
       "    <tr>\n",
       "      <td>2</td>\n",
       "      <td>5</td>\n",
       "      <td>6</td>\n",
       "      <td>6</td>\n",
       "      <td>3</td>\n",
       "      <td>2</td>\n",
       "      <td>2</td>\n",
       "      <td>9</td>\n",
       "      <td>13882</td>\n",
       "    </tr>\n",
       "    <tr>\n",
       "      <td>3</td>\n",
       "      <td>4</td>\n",
       "      <td>5</td>\n",
       "      <td>6</td>\n",
       "      <td>4</td>\n",
       "      <td>1</td>\n",
       "      <td>1</td>\n",
       "      <td>9</td>\n",
       "      <td>6218</td>\n",
       "    </tr>\n",
       "    <tr>\n",
       "      <td>4</td>\n",
       "      <td>4</td>\n",
       "      <td>3</td>\n",
       "      <td>4</td>\n",
       "      <td>1</td>\n",
       "      <td>6</td>\n",
       "      <td>1</td>\n",
       "      <td>9</td>\n",
       "      <td>13302</td>\n",
       "    </tr>\n",
       "  </tbody>\n",
       "</table>\n",
       "</div>"
      ],
      "text/plain": [
       "   Airline  month_Journey  day_Journey  Source  Destination  Total_Stops  \\\n",
       "0        4              3            6       1            6            0   \n",
       "1        2              5            2       4            1            2   \n",
       "2        5              6            6       3            2            2   \n",
       "3        4              5            6       4            1            1   \n",
       "4        4              3            4       1            6            1   \n",
       "\n",
       "   Additional_Info  Price  \n",
       "0                9   3897  \n",
       "1                9   7662  \n",
       "2                9  13882  \n",
       "3                9   6218  \n",
       "4                9  13302  "
      ]
     },
     "execution_count": 11,
     "metadata": {},
     "output_type": "execute_result"
    }
   ],
   "source": [
    "df_data.head()"
   ]
  },
  {
   "cell_type": "markdown",
   "metadata": {},
   "source": [
    "## 4) Splitting Data for Testing and Training"
   ]
  },
  {
   "cell_type": "code",
   "execution_count": 12,
   "metadata": {},
   "outputs": [],
   "source": [
    "df_data_copy = df_data.copy()\n",
    "del df_data_copy['Price']\n",
    "\n",
    "Y = df_data.iloc[:,-1:].values\n",
    "X = df_data_copy.iloc[::].values"
   ]
  },
  {
   "cell_type": "code",
   "execution_count": 13,
   "metadata": {},
   "outputs": [],
   "source": [
    "#std_scalar = StandardScaler()\n",
    "#X = std_scalar.fit_transform(X)\n",
    "#Y = std_scalar.fit_transform(Y)"
   ]
  },
  {
   "cell_type": "code",
   "execution_count": 14,
   "metadata": {},
   "outputs": [],
   "source": [
    "X_train, X_test, y_train, y_test = train_test_split(X, Y, test_size=0.25, random_state=92)"
   ]
  },
  {
   "cell_type": "markdown",
   "metadata": {},
   "source": [
    "## 5) Training with Random Forest Regressor"
   ]
  },
  {
   "cell_type": "code",
   "execution_count": 17,
   "metadata": {},
   "outputs": [
    {
     "name": "stderr",
     "output_type": "stream",
     "text": [
      "/usr/local/lib/python3.6/dist-packages/sklearn/model_selection/_search.py:740: DataConversionWarning: A column-vector y was passed when a 1d array was expected. Please change the shape of y to (n_samples,), for example using ravel().\n",
      "  self.best_estimator_.fit(X, y, **fit_params)\n"
     ]
    },
    {
     "name": "stdout",
     "output_type": "stream",
     "text": [
      "Trainig is Done !!!\n"
     ]
    }
   ],
   "source": [
    "tuned_params = {'n_estimators': [100, 200, 300, 400, 500], 'min_samples_split': [2, 5, 10], 'min_samples_leaf': [1, 2, 4]}\n",
    "random_regressor = RandomizedSearchCV(RandomForestRegressor(), tuned_params, n_iter = 20, scoring = 'neg_mean_absolute_error', cv = 5, n_jobs = -1)\n",
    "random_regressor.fit(X_train, y_train)\n",
    "print('Trainig is Done !!!')"
   ]
  },
  {
   "cell_type": "markdown",
   "metadata": {},
   "source": [
    "### Saving Model"
   ]
  },
  {
   "cell_type": "code",
   "execution_count": 18,
   "metadata": {},
   "outputs": [
    {
     "name": "stdout",
     "output_type": "stream",
     "text": [
      "Model Saved !!!\n"
     ]
    }
   ],
   "source": [
    "filename = 'Trained_Models/Decision_Tree_model.pkl'\n",
    "joblib.dump(random_regressor,filename)\n",
    "print('Model Saved !!!')"
   ]
  },
  {
   "cell_type": "markdown",
   "metadata": {},
   "source": [
    "## 6) Testing with Decision Tree Regressor"
   ]
  },
  {
   "cell_type": "code",
   "execution_count": 19,
   "metadata": {},
   "outputs": [],
   "source": [
    "y_test_pred =random_regressor.predict(X_test)"
   ]
  },
  {
   "cell_type": "markdown",
   "metadata": {},
   "source": [
    "## 7) Calculating Accuracy_score and Error"
   ]
  },
  {
   "cell_type": "markdown",
   "metadata": {},
   "source": [
    "### For Training Data"
   ]
  },
  {
   "cell_type": "code",
   "execution_count": 27,
   "metadata": {},
   "outputs": [
    {
     "name": "stdout",
     "output_type": "stream",
     "text": [
      "Train Results for Decision Tree Regressor Model:\n",
      "--------------------------------------------------\n",
      "Root mean squared error :  1876.816560824894\n",
      "Accuracy_score :  0.83799122151341\n"
     ]
    }
   ],
   "source": [
    "y_train_pred = random_regressor.predict(X_train)\n",
    "print(\"Train Results for Decision Tree Regressor Model:\")\n",
    "print(50 * '-')\n",
    "print(\"Root mean squared error : \", math.sqrt(mse(y_train, y_train_pred)))\n",
    "print(\"Accuracy_score : \", r2_score(y_train, y_train_pred))"
   ]
  },
  {
   "cell_type": "code",
   "execution_count": 28,
   "metadata": {},
   "outputs": [
    {
     "data": {
      "text/plain": [
       "Text(0, 0.5, 'Predicted value of price')"
      ]
     },
     "execution_count": 28,
     "metadata": {},
     "output_type": "execute_result"
    },
    {
     "data": {
      "image/png": "[encoded data removed]",
      "text/plain": [
       "<Figure size 432x288 with 1 Axes>"
      ]
     },
     "metadata": {
      "needs_background": "light"
     },
     "output_type": "display_data"
    }
   ],
   "source": [
    "plt.scatter(y_train, y_train_pred, color='red', label='model predicted curve')\n",
    "plt.title('Accuracy graph')\n",
    "plt.xlabel('Actual values of price')\n",
    "plt.ylabel('Predicted value of price')"
   ]
  },
  {
   "cell_type": "markdown",
   "metadata": {},
   "source": [
    "### For Testing Data"
   ]
  },
  {
   "cell_type": "code",
   "execution_count": 29,
   "metadata": {},
   "outputs": [
    {
     "name": "stdout",
     "output_type": "stream",
     "text": [
      "Test Results for Decision Tree Regressor Model:\n",
      "--------------------------------------------------\n",
      "Root mean squared error :  2071.019257807631\n",
      "Accuracy_score :  0.7836860696731502\n"
     ]
    }
   ],
   "source": [
    "print(\"Test Results for Decision Tree Regressor Model:\")\n",
    "print(50 * '-')\n",
    "print(\"Root mean squared error : \", math.sqrt(mse(y_test, y_test_pred)))\n",
    "print(\"Accuracy_score : \", r2_score(y_test, y_test_pred))"
   ]
  },
  {
   "cell_type": "code",
   "execution_count": 30,
   "metadata": {},
   "outputs": [
    {
     "data": {
      "text/plain": [
       "Text(0, 0.5, 'Predicted value of price')"
      ]
     },
     "execution_count": 30,
     "metadata": {},
     "output_type": "execute_result"
    },
    {
     "data": {
      "image/png": "[encoded data removed]",
      "text/plain": [
       "<Figure size 432x288 with 1 Axes>"
      ]
     },
     "metadata": {
      "needs_background": "light"
     },
     "output_type": "display_data"
    }
   ],
   "source": [
    "plt.scatter(y_test, y_test_pred, color='green', label='model predicted curve')\n",
    "plt.title('Accuracy graph')\n",
    "plt.xlabel('Actual values of price')\n",
    "plt.ylabel('Predicted value of price')"
   ]
  },
  {
   "cell_type": "markdown",
   "metadata": {},
   "source": [
    "### Loading Saved Model"
   ]
  },
  {
   "cell_type": "code",
   "execution_count": 31,
   "metadata": {},
   "outputs": [
    {
     "name": "stdout",
     "output_type": "stream",
     "text": [
      "13679.858610171146\n"
     ]
    }
   ],
   "source": [
    "trained_model = joblib.load('Trained_Models/Decision_Tree_model.pkl')\n",
    "price = trained_model.predict([[5,6,6,3,2,2,9]])\n",
    "print(price[0])"
   ]
  },
  {
   "cell_type": "code",
   "execution_count": null,
   "metadata": {},
   "outputs": [],
   "source": []
  },
  {
   "cell_type": "code",
   "execution_count": null,
   "metadata": {},
   "outputs": [],
   "source": []
  },
  {
   "cell_type": "code",
   "execution_count": null,
   "metadata": {},
   "outputs": [],
   "source": []
  }
 ],
 "metadata": {
  "kernelspec": {
   "display_name": "Python 3",
   "language": "python",
   "name": "python3"
  },
  "language_info": {
   "codemirror_mode": {
    "name": "ipython",
    "version": 3
   },
   "file_extension": ".py",
   "mimetype": "text/x-python",
   "name": "python",
   "nbconvert_exporter": "python",
   "pygments_lexer": "ipython3",
   "version": "3.6.9"
  }
 },
 "nbformat": 4,
 "nbformat_minor": 2
}
