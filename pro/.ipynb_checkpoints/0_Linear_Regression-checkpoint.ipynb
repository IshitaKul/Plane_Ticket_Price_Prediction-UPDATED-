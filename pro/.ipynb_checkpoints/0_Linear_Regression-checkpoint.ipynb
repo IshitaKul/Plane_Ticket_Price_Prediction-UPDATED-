{
 "cells": [
  {
   "cell_type": "markdown",
   "metadata": {},
   "source": [
    "# Plane Ticket Price Prediction"
   ]
  },
  {
   "cell_type": "code",
   "execution_count": 36,
   "metadata": {},
   "outputs": [],
   "source": [
    "import pandas as pd \n",
    "import numpy as np\n",
    "from pandas.plotting import scatter_matrix \n",
    "import matplotlib.pyplot as plt \n",
    "from sklearn import model_selection \n",
    "from sklearn.metrics import classification_report, confusion_matrix, accuracy_score \n",
    "from sklearn.linear_model import LogisticRegression \n",
    "from sklearn.tree import DecisionTreeClassifier \n",
    "from sklearn.neighbors import KNeighborsClassifier \n",
    "import datetime\n",
    "from sklearn.preprocessing import StandardScaler\n",
    "from sklearn.discriminant_analysis import LinearDiscriminantAnalysis\n",
    "from sklearn.tree import DecisionTreeRegressor\n",
    "from sklearn.model_selection import train_test_split\n",
    "from sklearn.metrics import mean_squared_error"
   ]
  },
  {
   "cell_type": "code",
   "execution_count": 37,
   "metadata": {},
   "outputs": [],
   "source": [
    "train = pd.read_csv('Data_Train.csv')"
   ]
  },
  {
   "cell_type": "code",
   "execution_count": 38,
   "metadata": {},
   "outputs": [
    {
     "data": {
      "text/plain": [
       "Airline            0\n",
       "Date_of_Journey    0\n",
       "Source             0\n",
       "Destination        0\n",
       "Dep_Time           0\n",
       "Arrival_Time       0\n",
       "Duration           0\n",
       "Total_Stops        0\n",
       "Additional_Info    0\n",
       "Price              0\n",
       "dtype: int64"
      ]
     },
     "execution_count": 38,
     "metadata": {},
     "output_type": "execute_result"
    }
   ],
   "source": [
    "train.isnull().sum()\n",
    "#train[train.isnull().any(axis=1)]"
   ]
  },
  {
   "cell_type": "code",
   "execution_count": 39,
   "metadata": {},
   "outputs": [
    {
     "data": {
      "text/html": [
       "<div>\n",
       "<style scoped>\n",
       "    .dataframe tbody tr th:only-of-type {\n",
       "        vertical-align: middle;\n",
       "    }\n",
       "\n",
       "    .dataframe tbody tr th {\n",
       "        vertical-align: top;\n",
       "    }\n",
       "\n",
       "    .dataframe thead th {\n",
       "        text-align: right;\n",
       "    }\n",
       "</style>\n",
       "<table border=\"1\" class=\"dataframe\">\n",
       "  <thead>\n",
       "    <tr style=\"text-align: right;\">\n",
       "      <th></th>\n",
       "      <th>Airline</th>\n",
       "      <th>Date_of_Journey</th>\n",
       "      <th>Source</th>\n",
       "      <th>Destination</th>\n",
       "      <th>Dep_Time</th>\n",
       "      <th>Arrival_Time</th>\n",
       "      <th>Duration</th>\n",
       "      <th>Total_Stops</th>\n",
       "      <th>Additional_Info</th>\n",
       "      <th>Price</th>\n",
       "    </tr>\n",
       "  </thead>\n",
       "  <tbody>\n",
       "    <tr>\n",
       "      <td>0</td>\n",
       "      <td>IndiGo</td>\n",
       "      <td>24/03/2019</td>\n",
       "      <td>Banglore</td>\n",
       "      <td>New Delhi</td>\n",
       "      <td>22:20</td>\n",
       "      <td>01:10 22 Mar</td>\n",
       "      <td>2h 50m</td>\n",
       "      <td>0</td>\n",
       "      <td>No Info</td>\n",
       "      <td>3897</td>\n",
       "    </tr>\n",
       "    <tr>\n",
       "      <td>1</td>\n",
       "      <td>Air India</td>\n",
       "      <td>1/05/2019</td>\n",
       "      <td>Kolkata</td>\n",
       "      <td>Banglore</td>\n",
       "      <td>05:50</td>\n",
       "      <td>13:15</td>\n",
       "      <td>7h 25m</td>\n",
       "      <td>2</td>\n",
       "      <td>No Info</td>\n",
       "      <td>7662</td>\n",
       "    </tr>\n",
       "    <tr>\n",
       "      <td>2</td>\n",
       "      <td>Jet Airways</td>\n",
       "      <td>9/06/2019</td>\n",
       "      <td>Delhi</td>\n",
       "      <td>Cochin</td>\n",
       "      <td>09:25</td>\n",
       "      <td>04:25 10 Jun</td>\n",
       "      <td>19h</td>\n",
       "      <td>2</td>\n",
       "      <td>No Info</td>\n",
       "      <td>13882</td>\n",
       "    </tr>\n",
       "    <tr>\n",
       "      <td>3</td>\n",
       "      <td>IndiGo</td>\n",
       "      <td>12/05/2019</td>\n",
       "      <td>Kolkata</td>\n",
       "      <td>Banglore</td>\n",
       "      <td>18:05</td>\n",
       "      <td>23:30</td>\n",
       "      <td>5h 25m</td>\n",
       "      <td>1</td>\n",
       "      <td>No Info</td>\n",
       "      <td>6218</td>\n",
       "    </tr>\n",
       "    <tr>\n",
       "      <td>4</td>\n",
       "      <td>IndiGo</td>\n",
       "      <td>01/03/2019</td>\n",
       "      <td>Banglore</td>\n",
       "      <td>New Delhi</td>\n",
       "      <td>16:50</td>\n",
       "      <td>21:35</td>\n",
       "      <td>4h 45m</td>\n",
       "      <td>1</td>\n",
       "      <td>No Info</td>\n",
       "      <td>13302</td>\n",
       "    </tr>\n",
       "  </tbody>\n",
       "</table>\n",
       "</div>"
      ],
      "text/plain": [
       "       Airline Date_of_Journey    Source Destination Dep_Time  Arrival_Time  \\\n",
       "0       IndiGo      24/03/2019  Banglore   New Delhi    22:20  01:10 22 Mar   \n",
       "1    Air India       1/05/2019   Kolkata    Banglore    05:50         13:15   \n",
       "2  Jet Airways       9/06/2019     Delhi      Cochin    09:25  04:25 10 Jun   \n",
       "3       IndiGo      12/05/2019   Kolkata    Banglore    18:05         23:30   \n",
       "4       IndiGo      01/03/2019  Banglore   New Delhi    16:50         21:35   \n",
       "\n",
       "  Duration  Total_Stops Additional_Info  Price  \n",
       "0   2h 50m            0         No Info   3897  \n",
       "1   7h 25m            2         No Info   7662  \n",
       "2      19h            2         No Info  13882  \n",
       "3   5h 25m            1         No Info   6218  \n",
       "4   4h 45m            1         No Info  13302  "
      ]
     },
     "execution_count": 39,
     "metadata": {},
     "output_type": "execute_result"
    }
   ],
   "source": [
    "train.head()"
   ]
  },
  {
   "cell_type": "markdown",
   "metadata": {},
   "source": [
    "# Cleaning Dataset ( Train data )"
   ]
  },
  {
   "cell_type": "code",
   "execution_count": 45,
   "metadata": {},
   "outputs": [
    {
     "name": "stdout",
     "output_type": "stream",
     "text": [
      "Airline\n",
      "Air Asia                              318\n",
      "Air India                            1746\n",
      "GoAir                                 194\n",
      "IndiGo                               2053\n",
      "Jet Airways                          3844\n",
      "Jet Airways Business                    6\n",
      "Multiple carriers                    1196\n",
      "Multiple carriers Premium economy      13\n",
      "SpiceJet                              817\n",
      "Trujet                                  1\n",
      "Vistara                               478\n",
      "Vistara Premium economy                 3\n",
      "dtype: int64\n"
     ]
    }
   ],
   "source": [
    "df_train = pd.DataFrame()\n",
    "print((train.groupby('Airline')).size())"
   ]
  },
  {
   "cell_type": "code",
   "execution_count": 41,
   "metadata": {},
   "outputs": [],
   "source": [
    "\n",
    "Airline_dic = {'Air Asia':1, 'Air India':2, 'GoAir':3, 'IndiGo':4, 'Jet Airways':5, 'Jet Airways Business':6, 'Multiple carriers':7, 'Multiple carriers Premium economy':8, 'SpiceJet':9, 'Trujet':10, 'Vistara':11, 'Vistara Premium economy':12, 'Multiple carriers':13}\n",
    "Source_dic = {'Banglore':1, 'Chennai':2, 'Delhi':3, 'Kolkata':4, 'Mumbai':5}\n",
    "Destination_dic = {'Banglore':1, 'Cochin':2, 'Delhi':3, 'Hyderabad':4, 'Kolkata':5, 'New Delhi':6}\n",
    "add_info = {'1 Long layover':1,'1 Short layover':2,'2 Long layover':3,'Business class':4, 'Change airports':5, 'In-flight meal not included':6, 'No Info':7, 'No check-in baggage included':8, 'No info':9, 'Red-eye flight':10}\n"
   ]
  },
  {
   "cell_type": "code",
   "execution_count": 42,
   "metadata": {
    "scrolled": false
   },
   "outputs": [
    {
     "data": {
      "text/html": [
       "<div>\n",
       "<style scoped>\n",
       "    .dataframe tbody tr th:only-of-type {\n",
       "        vertical-align: middle;\n",
       "    }\n",
       "\n",
       "    .dataframe tbody tr th {\n",
       "        vertical-align: top;\n",
       "    }\n",
       "\n",
       "    .dataframe thead th {\n",
       "        text-align: right;\n",
       "    }\n",
       "</style>\n",
       "<table border=\"1\" class=\"dataframe\">\n",
       "  <thead>\n",
       "    <tr style=\"text-align: right;\">\n",
       "      <th></th>\n",
       "      <th>Airline</th>\n",
       "      <th>month_Journey</th>\n",
       "      <th>day_Journey</th>\n",
       "      <th>Source</th>\n",
       "      <th>Destination</th>\n",
       "      <th>Duration</th>\n",
       "      <th>Dep_Time</th>\n",
       "      <th>Arrival_Time</th>\n",
       "      <th>Additional_Info</th>\n",
       "      <th>Price</th>\n",
       "    </tr>\n",
       "  </thead>\n",
       "  <tbody>\n",
       "    <tr>\n",
       "      <td>0</td>\n",
       "      <td>4</td>\n",
       "      <td>3</td>\n",
       "      <td>1</td>\n",
       "      <td>1</td>\n",
       "      <td>6</td>\n",
       "      <td>170</td>\n",
       "      <td>22</td>\n",
       "      <td>1</td>\n",
       "      <td>7</td>\n",
       "      <td>3897</td>\n",
       "    </tr>\n",
       "    <tr>\n",
       "      <td>1</td>\n",
       "      <td>2</td>\n",
       "      <td>5</td>\n",
       "      <td>4</td>\n",
       "      <td>4</td>\n",
       "      <td>1</td>\n",
       "      <td>445</td>\n",
       "      <td>5</td>\n",
       "      <td>13</td>\n",
       "      <td>7</td>\n",
       "      <td>7662</td>\n",
       "    </tr>\n",
       "    <tr>\n",
       "      <td>2</td>\n",
       "      <td>5</td>\n",
       "      <td>6</td>\n",
       "      <td>1</td>\n",
       "      <td>3</td>\n",
       "      <td>2</td>\n",
       "      <td>1140</td>\n",
       "      <td>9</td>\n",
       "      <td>4</td>\n",
       "      <td>7</td>\n",
       "      <td>13882</td>\n",
       "    </tr>\n",
       "    <tr>\n",
       "      <td>3</td>\n",
       "      <td>4</td>\n",
       "      <td>5</td>\n",
       "      <td>1</td>\n",
       "      <td>4</td>\n",
       "      <td>1</td>\n",
       "      <td>325</td>\n",
       "      <td>18</td>\n",
       "      <td>23</td>\n",
       "      <td>7</td>\n",
       "      <td>6218</td>\n",
       "    </tr>\n",
       "    <tr>\n",
       "      <td>4</td>\n",
       "      <td>4</td>\n",
       "      <td>3</td>\n",
       "      <td>6</td>\n",
       "      <td>1</td>\n",
       "      <td>6</td>\n",
       "      <td>285</td>\n",
       "      <td>16</td>\n",
       "      <td>21</td>\n",
       "      <td>7</td>\n",
       "      <td>13302</td>\n",
       "    </tr>\n",
       "  </tbody>\n",
       "</table>\n",
       "</div>"
      ],
      "text/plain": [
       "   Airline  month_Journey  day_Journey  Source  Destination  Duration  \\\n",
       "0        4              3            1       1            6       170   \n",
       "1        2              5            4       4            1       445   \n",
       "2        5              6            1       3            2      1140   \n",
       "3        4              5            1       4            1       325   \n",
       "4        4              3            6       1            6       285   \n",
       "\n",
       "   Dep_Time  Arrival_Time  Additional_Info  Price  \n",
       "0        22             1                7   3897  \n",
       "1         5            13                7   7662  \n",
       "2         9             4                7  13882  \n",
       "3        18            23                7   6218  \n",
       "4        16            21                7  13302  "
      ]
     },
     "execution_count": 42,
     "metadata": {},
     "output_type": "execute_result"
    }
   ],
   "source": [
    "import calendar\n",
    "import re\n",
    "\n",
    "# fetching month\n",
    "def dat_M(x):\n",
    "  x=x.strip()\n",
    "  xx=x.split('/')\n",
    "  x=xx[1]\n",
    "  return int(x)\n",
    "\n",
    "# fetching day\n",
    "def dat_D(x):\n",
    "  xx=x.split('/')\n",
    "    \n",
    "  dd = xx[0]\n",
    "  mm = xx[1]\n",
    "  yy = xx[2]\n",
    "  \n",
    "  import datetime\n",
    "  import calendar\n",
    "\n",
    "  day, month, year = map(int, (dd+' '+mm+' '+yy).split(' '))\n",
    "  my_date = datetime.date(year, month, day)\n",
    "    \n",
    "  d = {\"Sunday\":1, \"Monday\":2, \"Tuesday\":3, \"Wednesday\":4, \"Thursday\":5, \"Friday\":6, \"Saturday\":7}\n",
    "\n",
    "  return d[calendar.day_name[my_date.weekday()]]\n",
    "\n",
    "def clean_duration(x):\n",
    "    x=x.strip()\n",
    "    xx = x.split(' ')\n",
    "    \n",
    "    hh = int(re.findall('[0-9]+',xx[0])[0])\n",
    "    \n",
    "    if(len(xx) == 2):\n",
    "        mm = int(re.findall('[0-9]+',xx[1])[0])\n",
    "    else:\n",
    "        mm = 0\n",
    "        \n",
    "    t_min = hh*60 + mm\n",
    "    \n",
    "    return t_min\n",
    "\n",
    "def clean_Dep_Arival_Time(x):\n",
    "    x = x.strip()\n",
    "    xx = int(x.split(':')[0])\n",
    "    return xx\n",
    "\n",
    "def clean_Airline(x):\n",
    "    return Airline_dic[x]\n",
    "\n",
    "def clean_Source(x):\n",
    "    return Source_dic[x]\n",
    "\n",
    "def clean_Destination(x):\n",
    "    return Destination_dic[x]\n",
    "\n",
    "def clean_add_info(x):\n",
    "    return add_info[x]\n",
    "\n",
    "#cleaning Airline_name\n",
    "df_train['Airline'] = train['Airline'].apply(clean_Airline)\n",
    "\n",
    "# fetching month\n",
    "df_train['month_Journey']= train['Date_of_Journey'].apply(dat_M)\n",
    "\n",
    "# fetching day\n",
    "df_train['day_Journey']= train['Date_of_Journey'].apply(dat_D)\n",
    "\n",
    "df_train['Source'] = train['Source'].apply(clean_Source)\n",
    "\n",
    "df_train['Destination'] = train['Destination'].apply(clean_Destination)\n",
    "\n",
    "#converting Duration from Hours to minute\n",
    "df_train['Duration'] = train['Duration'].apply(clean_duration)\n",
    "\n",
    "#clening depature time\n",
    "df_train['Dep_Time'] = train['Dep_Time'].apply(clean_Dep_Arival_Time)\n",
    "\n",
    "#cleaning Arrival_Time\n",
    "df_train['Arrival_Time'] = train['Arrival_Time'].apply(clean_Dep_Arival_Time)\n",
    "\n",
    "df_train['Additional_Info'] = train['Additional_Info'].apply(clean_add_info)\n",
    "\n",
    "df_train['Price'] = train['Price']\n",
    "\n",
    "df_train.head()"
   ]
  },
  {
   "cell_type": "code",
   "execution_count": 43,
   "metadata": {},
   "outputs": [
    {
     "name": "stdout",
     "output_type": "stream",
     "text": [
      "(10669, 10)\n"
     ]
    }
   ],
   "source": [
    "print(df_train.shape)"
   ]
  },
  {
   "cell_type": "code",
   "execution_count": 9,
   "metadata": {},
   "outputs": [
    {
     "name": "stdout",
     "output_type": "stream",
     "text": [
      "            Airline  month_Journey   day_Journey        Source   Destination  \\\n",
      "count  10669.000000   10669.000000  10669.000000  10669.000000  10669.000000   \n",
      "mean       5.639610       4.708782      3.969069      2.952479      2.435280   \n",
      "std        3.441968       1.164489      1.983523      1.176770      1.474142   \n",
      "min        1.000000       3.000000      1.000000      1.000000      1.000000   \n",
      "25%        4.000000       3.000000      2.000000      3.000000      1.000000   \n",
      "50%        5.000000       5.000000      4.000000      3.000000      2.000000   \n",
      "75%        5.000000       6.000000      5.000000      4.000000      3.000000   \n",
      "max       13.000000       6.000000      7.000000      5.000000      6.000000   \n",
      "\n",
      "           Duration      Dep_Time  Arrival_Time  Additional_Info         Price  \n",
      "count  10669.000000  10669.000000  10669.000000     10669.000000  10669.000000  \n",
      "mean     643.242103     12.488612     13.344550         6.830725   9087.693786  \n",
      "std      507.851104      5.747808      6.858863         0.511426   4611.801349  \n",
      "min       75.000000      0.000000      0.000000         1.000000   1759.000000  \n",
      "25%      170.000000      8.000000      8.000000         7.000000   5277.000000  \n",
      "50%      520.000000     11.000000     14.000000         7.000000   8372.000000  \n",
      "75%      930.000000     18.000000     19.000000         7.000000  12373.000000  \n",
      "max     2860.000000     23.000000     23.000000        10.000000  79512.000000  \n"
     ]
    }
   ],
   "source": [
    "print(df_train.describe()) "
   ]
  },
  {
   "cell_type": "code",
   "execution_count": 10,
   "metadata": {},
   "outputs": [
    {
     "name": "stdout",
     "output_type": "stream",
     "text": [
      "Airline\n",
      "1      318\n",
      "2     1746\n",
      "3      194\n",
      "4     2053\n",
      "5     3844\n",
      "6        6\n",
      "8       13\n",
      "9      817\n",
      "10       1\n",
      "11     478\n",
      "12       3\n",
      "13    1196\n",
      "dtype: int64\n"
     ]
    }
   ],
   "source": [
    "print((df_train.groupby('Airline')).size())"
   ]
  },
  {
   "cell_type": "code",
   "execution_count": 11,
   "metadata": {},
   "outputs": [
    {
     "name": "stdout",
     "output_type": "stream",
     "text": [
      "Source\n",
      "1    2192\n",
      "2     381\n",
      "3    4533\n",
      "4    2868\n",
      "5     695\n",
      "dtype: int64\n"
     ]
    }
   ],
   "source": [
    "print((df_train.groupby('Source')).size()) "
   ]
  },
  {
   "cell_type": "code",
   "execution_count": 12,
   "metadata": {},
   "outputs": [
    {
     "name": "stdout",
     "output_type": "stream",
     "text": [
      "Destination\n",
      "1    2868\n",
      "2    4533\n",
      "3    1263\n",
      "4     695\n",
      "5     381\n",
      "6     929\n",
      "dtype: int64\n"
     ]
    }
   ],
   "source": [
    "print((df_train.groupby('Destination')).size()) "
   ]
  },
  {
   "cell_type": "code",
   "execution_count": 13,
   "metadata": {},
   "outputs": [
    {
     "name": "stdout",
     "output_type": "stream",
     "text": [
      "Additional_Info\n",
      "1       19\n",
      "2        1\n",
      "3        1\n",
      "4        4\n",
      "5        7\n",
      "6     1979\n",
      "7     8338\n",
      "8      319\n",
      "10       1\n",
      "dtype: int64\n"
     ]
    }
   ],
   "source": [
    "print((df_train.groupby('Additional_Info')).size()) "
   ]
  },
  {
   "cell_type": "markdown",
   "metadata": {},
   "source": [
    "#  Useful Graphs"
   ]
  },
  {
   "cell_type": "code",
   "execution_count": 14,
   "metadata": {},
   "outputs": [
    {
     "data": {
      "text/plain": [
       "[]"
      ]
     },
     "execution_count": 14,
     "metadata": {},
     "output_type": "execute_result"
    },
    {
     "data": {
      "image/png": "[encoded data removed]",
      "text/plain": [
       "<Figure size 432x288 with 1 Axes>"
      ]
     },
     "metadata": {
      "needs_background": "light"
     },
     "output_type": "display_data"
    }
   ],
   "source": [
    "plt.scatter(df_train['Airline'], df_train['Price'])\n",
    "plt.title('Airline v/s Price Graph')\n",
    "plt.xlabel('Airline')\n",
    "plt.ylabel('Price')\n",
    "plt.plot()"
   ]
  },
  {
   "cell_type": "code",
   "execution_count": 15,
   "metadata": {},
   "outputs": [
    {
     "data": {
      "text/plain": [
       "[]"
      ]
     },
     "execution_count": 15,
     "metadata": {},
     "output_type": "execute_result"
    },
    {
     "data": {
      "image/png": "[encoded data removed]",
      "text/plain": [
       "<Figure size 432x288 with 1 Axes>"
      ]
     },
     "metadata": {
      "needs_background": "light"
     },
     "output_type": "display_data"
    }
   ],
   "source": [
    "plt.scatter(df_train['Duration'], df_train['Price'])\n",
    "plt.title('Duration v/s Price Graph')\n",
    "plt.xlabel('Duration')\n",
    "plt.ylabel('Price')\n",
    "plt.plot()"
   ]
  },
  {
   "cell_type": "code",
   "execution_count": 16,
   "metadata": {
    "scrolled": true
   },
   "outputs": [
    {
     "name": "stdout",
     "output_type": "stream",
     "text": [
      "[[ 3897]\n",
      " [ 7662]\n",
      " [13882]\n",
      " ...\n",
      " [10262]\n",
      " [10000]\n",
      " [21219]]\n"
     ]
    }
   ],
   "source": [
    "Y = df_train.iloc[:,-1:].values\n",
    "print(Y)"
   ]
  },
  {
   "cell_type": "code",
   "execution_count": 17,
   "metadata": {},
   "outputs": [
    {
     "name": "stdout",
     "output_type": "stream",
     "text": [
      "[[ 4  3  1 ... 22  1  7]\n",
      " [ 2  5  4 ...  5 13  7]\n",
      " [ 5  6  1 ...  9  4  7]\n",
      " ...\n",
      " [ 5  6  4 ... 18 19  6]\n",
      " [13  6  7 ...  4 19  7]\n",
      " [ 5  5  5 ... 11 19  7]]\n"
     ]
    }
   ],
   "source": [
    "df_train1 = df_train.copy()\n",
    "del df_train1['Price']\n",
    "\n",
    "X=df_train1.iloc[::].values\n",
    "print(X)"
   ]
  },
  {
   "cell_type": "code",
   "execution_count": 18,
   "metadata": {},
   "outputs": [
    {
     "name": "stderr",
     "output_type": "stream",
     "text": [
      "/usr/local/lib/python3.6/dist-packages/sklearn/utils/validation.py:595: DataConversionWarning: Data with input dtype int64 was converted to float64 by StandardScaler.\n",
      "  warnings.warn(msg, DataConversionWarning)\n",
      "/usr/local/lib/python3.6/dist-packages/sklearn/utils/validation.py:595: DataConversionWarning: Data with input dtype int64 was converted to float64 by StandardScaler.\n",
      "  warnings.warn(msg, DataConversionWarning)\n",
      "/usr/local/lib/python3.6/dist-packages/sklearn/utils/validation.py:595: DataConversionWarning: Data with input dtype int64 was converted to float64 by StandardScaler.\n",
      "  warnings.warn(msg, DataConversionWarning)\n",
      "/usr/local/lib/python3.6/dist-packages/sklearn/utils/validation.py:595: DataConversionWarning: Data with input dtype int64 was converted to float64 by StandardScaler.\n",
      "  warnings.warn(msg, DataConversionWarning)\n"
     ]
    }
   ],
   "source": [
    "std_x = StandardScaler()\n",
    "std_y = StandardScaler()\n",
    "X = std_x.fit_transform(X)\n",
    "Y = std_y.fit_transform(Y)"
   ]
  },
  {
   "cell_type": "code",
   "execution_count": 19,
   "metadata": {},
   "outputs": [
    {
     "name": "stdout",
     "output_type": "stream",
     "text": [
      "[[-0.4763807  -1.46747799 -1.49693667 ...  1.65486289 -1.79987964\n",
      "   0.33100255]\n",
      " [-1.05747092  0.25009347  0.01559457 ... -1.30292505 -0.05023657\n",
      "   0.33100255]\n",
      " [-0.18583558  1.1088792  -1.49693667 ... -0.60697495 -1.36246887\n",
      "   0.33100255]\n",
      " ...\n",
      " [-0.18583558  1.1088792   0.01559457 ...  0.95891278  0.82458496\n",
      "  -1.62440507]\n",
      " [ 2.13852532  1.1088792   1.5281258  ... -1.47691257  0.82458496\n",
      "   0.33100255]\n",
      " [-0.18583558  0.25009347  0.51977165 ... -0.25899989  0.82458496\n",
      "   0.33100255]]\n"
     ]
    }
   ],
   "source": [
    "print(X)"
   ]
  },
  {
   "cell_type": "code",
   "execution_count": 20,
   "metadata": {},
   "outputs": [
    {
     "name": "stdout",
     "output_type": "stream",
     "text": [
      "[[-1.1255769 ]\n",
      " [-0.30915482]\n",
      " [ 1.03962217]\n",
      " ...\n",
      " [ 0.25464264]\n",
      " [ 0.1978292 ]\n",
      " [ 2.63061521]]\n"
     ]
    }
   ],
   "source": [
    "print(Y)"
   ]
  },
  {
   "cell_type": "markdown",
   "metadata": {},
   "source": [
    "# Splitting Test ans Trin data"
   ]
  },
  {
   "cell_type": "code",
   "execution_count": 21,
   "metadata": {},
   "outputs": [],
   "source": [
    "train_X, test_X, train_Y, test_Y = train_test_split(X, Y, test_size=0.25, random_state=92)"
   ]
  },
  {
   "cell_type": "code",
   "execution_count": null,
   "metadata": {},
   "outputs": [],
   "source": []
  },
  {
   "cell_type": "code",
   "execution_count": 22,
   "metadata": {},
   "outputs": [],
   "source": [
    "regressor = DecisionTreeRegressor()\n",
    "regressor.fit(train_X, train_Y)\n",
    "test_score= regressor.score(test_X, test_Y)\n",
    "training_score= regressor.score(train_X, train_Y)"
   ]
  },
  {
   "cell_type": "code",
   "execution_count": 23,
   "metadata": {},
   "outputs": [
    {
     "name": "stdout",
     "output_type": "stream",
     "text": [
      "the training score is ..... 0.9780234617924418\n",
      "the testing score is ..... 0.6717065034686706\n"
     ]
    }
   ],
   "source": [
    "print(\"the training score is .....\" ,training_score)\n",
    "print(\"the testing score is .....\" ,test_score)"
   ]
  },
  {
   "cell_type": "code",
   "execution_count": 24,
   "metadata": {},
   "outputs": [],
   "source": [
    "# Predicting the model result\n",
    "y_pred =regressor.predict(test_X)\n",
    "\n",
    "# Evaluating the model output\n",
    "rmse =np.sqrt(mean_squared_error(test_Y,y_pred))"
   ]
  },
  {
   "cell_type": "code",
   "execution_count": 25,
   "metadata": {},
   "outputs": [
    {
     "name": "stdout",
     "output_type": "stream",
     "text": [
      "the Root Mean Square Error is ....  0.5532517482393994\n"
     ]
    }
   ],
   "source": [
    "print(\"the Root Mean Square Error is .... \",rmse)"
   ]
  },
  {
   "cell_type": "code",
   "execution_count": 26,
   "metadata": {},
   "outputs": [
    {
     "data": {
      "text/plain": [
       "Text(0.1, 11.2, 'Rmse = 0.553252 \\n Score =0.9780234617924418')"
      ]
     },
     "execution_count": 26,
     "metadata": {},
     "output_type": "execute_result"
    },
    {
     "data": {
      "image/png": "[encoded data removed]",
      "text/plain": [
       "<Figure size 432x288 with 1 Axes>"
      ]
     },
     "metadata": {
      "needs_background": "light"
     },
     "output_type": "display_data"
    }
   ],
   "source": [
    "%matplotlib inline\n",
    "# modelplot training\n",
    "plt.scatter(train_Y,regressor.predict(train_X),color='red',label='model predicted curve')\n",
    "plt.title('training set with whole feature')\n",
    "plt.xlabel('actual values of price')\n",
    "plt.ylabel('predicted value of price')\n",
    "plt.legend(loc='upper left')\n",
    "plt.text(0.1,11.2, 'Rmse = %f \\n Score =%s' %(rmse,training_score))"
   ]
  },
  {
   "cell_type": "code",
   "execution_count": 27,
   "metadata": {},
   "outputs": [
    {
     "data": {
      "image/png": "[encoded data removed]",
      "text/plain": [
       "<Figure size 432x288 with 1 Axes>"
      ]
     },
     "metadata": {
      "needs_background": "light"
     },
     "output_type": "display_data"
    }
   ],
   "source": [
    "\n",
    "plt.scatter(test_Y,regressor.predict(test_X),color='blue',label='model predicted curve')\n",
    "plt.title('whole data testing data')\n",
    "plt.xlabel('actual value of price')\n",
    "plt.ylabel('predicted value of price')\n",
    "plt.xlim(-2, 10)\n",
    "plt.tight_layout()\n",
    "plt.legend(loc='upper left')\n",
    "\n",
    "plt.show()"
   ]
  },
  {
   "cell_type": "code",
   "execution_count": null,
   "metadata": {},
   "outputs": [],
   "source": []
  },
  {
   "cell_type": "code",
   "execution_count": null,
   "metadata": {},
   "outputs": [],
   "source": []
  },
  {
   "cell_type": "code",
   "execution_count": null,
   "metadata": {},
   "outputs": [],
   "source": []
  }
 ],
 "metadata": {
  "kernelspec": {
   "display_name": "Python 3",
   "language": "python",
   "name": "python3"
  },
  "language_info": {
   "codemirror_mode": {
    "name": "ipython",
    "version": 3
   },
   "file_extension": ".py",
   "mimetype": "text/x-python",
   "name": "python",
   "nbconvert_exporter": "python",
   "pygments_lexer": "ipython3",
   "version": "3.6.9"
  }
 },
 "nbformat": 4,
 "nbformat_minor": 2
}
